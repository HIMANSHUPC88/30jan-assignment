{
 "cells": [
  {
   "cell_type": "code",
   "execution_count": 1,
   "id": "0165c29d-a31b-4696-b200-c7fd3e3eaed3",
   "metadata": {},
   "outputs": [
    {
     "name": "stdin",
     "output_type": "stream",
     "text": [
      "Enter Marks 78\n"
     ]
    },
    {
     "name": "stdout",
     "output_type": "stream",
     "text": [
      "C Grade\n"
     ]
    }
   ],
   "source": [
    "# To accept the percentage from the user to display the Grade\n",
    "\n",
    "Marks = int(input(\"Enter Marks\"))\n",
    "if Marks >= 90 :\n",
    "    print (\"A Grade\")\n",
    "elif Marks >= 80 and Marks <= 90 :\n",
    "    print (\"B Grade\")\n",
    "elif Marks >= 60 and Marks <= 80 :\n",
    "    print (\"C Grade\")\n",
    "else :\n",
    "     print (\"D Grade\")\n",
    "        \n",
    "        #Answer 1 completed\n",
    "        "
   ]
  },
  {
   "cell_type": "code",
   "execution_count": 11,
   "id": "6568795a-145e-48ab-80a9-a6545e28dcb0",
   "metadata": {},
   "outputs": [
    {
     "name": "stdin",
     "output_type": "stream",
     "text": [
      "Enter the cost price of a bike 4500\n"
     ]
    },
    {
     "name": "stdout",
     "output_type": "stream",
     "text": [
      "Tex = 5 %\n"
     ]
    }
   ],
   "source": [
    "\n",
    "# To accept price cost of a bike and display Road Tex accourding the criteria.\n",
    "\n",
    "CP= int(input(\"Enter the cost price of a bike\"))\n",
    "if CP >= 100000:\n",
    "    print (\"Tax = 15 %\")\n",
    "elif CP >= 50000 and CP <= 100000:\n",
    "    print (\"Tex = 10 %\")\n",
    "else :\n",
    "    print (\"Tex = 5 %\")\n",
    "    #Answer 2 completed"
   ]
  },
  {
   "cell_type": "code",
   "execution_count": null,
   "id": "2a7ac971-6e89-4f1f-828c-943490db67c3",
   "metadata": {},
   "outputs": [
    {
     "name": "stdin",
     "output_type": "stream",
     "text": [
      "Enter the name of City Delhi\n"
     ]
    },
    {
     "name": "stdout",
     "output_type": "stream",
     "text": [
      "The Famous Monument of this city is 'Delhi Gate'\n"
     ]
    }
   ],
   "source": [
    "# accept any city which is given below and Display Monument of that city\n",
    "\n",
    "City =input(\"Enter the name of City\")\n",
    "if City == 'Delhi':\n",
    "    print(\"The Famous Monument of this city is 'Delhi Gate'\")\n",
    "elif City =='Agra' :\n",
    "    print(\"The Famous Monument of this city is 'Taj Mahal'\")\n",
    "elif City ==  'Jaypur':\n",
    "    print(\"The Famous Monument of this city is  'jay Mahal'\")\n",
    "    \n",
    "    \n",
    "#Answer 3 completed"
   ]
  },
  {
   "cell_type": "markdown",
   "id": "35e3f6f8-ab39-4e90-a2e3-baa9fedf345d",
   "metadata": {},
   "source": [
    "Q4. check how many times a given number can be devided by 3 befor it is less than or equa to 10"
   ]
  },
  {
   "cell_type": "code",
   "execution_count": 22,
   "id": "1fac71dc-7fa8-4f62-af41-c8f4fc3d16bb",
   "metadata": {},
   "outputs": [
    {
     "name": "stdout",
     "output_type": "stream",
     "text": [
      "8\n"
     ]
    }
   ],
   "source": [
    "#Answer 4 \n",
    "\n",
    "num = 35\n",
    "num_b=num-10\n",
    "#num_c = num_b%3 this is for getting remainder\n",
    "num_c = num_b//3\n",
    "print(num_c)\n",
    "# Answer 4 is completed now :))"
   ]
  },
  {
   "cell_type": "markdown",
   "id": "91c1a753-e016-47bf-8d4d-b079c9c5d828",
   "metadata": {},
   "source": [
    "Q5.why and when to use while loop in python give a detailed discription with example. "
   ]
  },
  {
   "cell_type": "raw",
   "id": "b4e860ec-951a-4dfd-8b28-5019bf338f59",
   "metadata": {},
   "source": [
    "#Answer 5  \n",
    "A while loop in Python is a programming construct that repeatedly executes a statement or block of statements as long as a specified condition is true. It requires us to check a condition and if the condition is true, then the statements inside the loop will be executed. We will continue to execute the statements inside the loop until the condition becomes false.\n",
    "\n",
    "We use a while loop in Python when we need to repeat a task multiple times until a certain condition is met. Some examples of using a while loop are:\n",
    "\n",
    "Printing all the elements of a list one by one.\n",
    "Validating user input until a valid input is received.\n",
    "Generating Fibonacci series or prime numbers.\n",
    "Reading lines from a file one by one.\n",
    "Apart from these, there are many other use cases where we use while loops in Python.\n",
    "\n",
    "To use this loop, we need to define a condition at the beginning of the loop. The statements inside the loop will continue to execute as long as this condition is true. When the condition becomes false, the loop execution stops and the control moves to the next statement in the program."
   ]
  },
  {
   "cell_type": "markdown",
   "id": "cb0ec885-2f55-4cd4-bc6d-6d510a3f75b6",
   "metadata": {},
   "source": [
    "Q6. Use Nested while loop to print 3 different pattern."
   ]
  },
  {
   "cell_type": "code",
   "execution_count": 1,
   "id": "195dc92b-4e11-4cde-a264-2d1361f40318",
   "metadata": {},
   "outputs": [
    {
     "name": "stdout",
     "output_type": "stream",
     "text": [
      "[1]\n",
      "[1, 2]\n",
      "[1, 2, 3]\n",
      "[1, 2, 3, 4]\n",
      "[1, 2, 3, 4, 5]\n"
     ]
    }
   ],
   "source": [
    "#Answer 6\n",
    "n = 1 \n",
    "l = []\n",
    "while n <= 5:\n",
    "    l.append(n)\n",
    "    n += 1 \n",
    "    print(l)"
   ]
  },
  {
   "cell_type": "code",
   "execution_count": 1,
   "id": "1287f37a-1d7a-4060-8370-1ff725f74bf4",
   "metadata": {},
   "outputs": [
    {
     "name": "stdout",
     "output_type": "stream",
     "text": [
      "*\n",
      "**\n",
      "***\n",
      "****\n",
      "*****\n"
     ]
    }
   ],
   "source": [
    "#Answer 6\n",
    "n = 1 \n",
    "while n <= 5:\n",
    "    l = 1\n",
    "    while l <= n:\n",
    "        print(\"*\",end=\"\")\n",
    "        l+=1 \n",
    "    print(\"\")\n",
    "    n += 1\n",
    "    "
   ]
  },
  {
   "cell_type": "code",
   "execution_count": 2,
   "id": "ceb879cc-1475-4c10-b616-a06e797fb973",
   "metadata": {},
   "outputs": [
    {
     "name": "stdout",
     "output_type": "stream",
     "text": [
      "1\n",
      "12\n",
      "123\n",
      "1234\n",
      "12345\n"
     ]
    }
   ],
   "source": [
    "i = 1\n",
    "while i <= 5:\n",
    "    j = 1\n",
    "    while j <= i:\n",
    "        print(j, end=\"\")\n",
    "        j += 1\n",
    "    print()\n",
    "    i += 1\n",
    "#Answer 6 completed"
   ]
  },
  {
   "cell_type": "markdown",
   "id": "ceb19ba3-ef09-4ce8-8907-cc7a27e1e810",
   "metadata": {},
   "source": [
    "Q7,8 reverse a while loop to display numbers 10 to 1."
   ]
  },
  {
   "cell_type": "code",
   "execution_count": 1,
   "id": "50c5ee99-4772-401f-8d01-c78205cf34e3",
   "metadata": {},
   "outputs": [
    {
     "data": {
      "text/plain": [
       "[10, 9, 8, 7, 6, 5, 4, 3, 2, 1]"
      ]
     },
     "execution_count": 1,
     "metadata": {},
     "output_type": "execute_result"
    }
   ],
   "source": [
    "# Answer 7,8 \n",
    "n = 1 \n",
    "l = []\n",
    "while n <= 10:\n",
    "    l.append(n)\n",
    "    n = n+1\n",
    "l[::-1]\n",
    "# Answer 7,8 completed now"
   ]
  },
  {
   "cell_type": "code",
   "execution_count": null,
   "id": "d5449465-9c85-49c7-b2b6-ec3a7d6cdf45",
   "metadata": {},
   "outputs": [],
   "source": []
  }
 ],
 "metadata": {
  "kernelspec": {
   "display_name": "Python 3 (ipykernel)",
   "language": "python",
   "name": "python3"
  },
  "language_info": {
   "codemirror_mode": {
    "name": "ipython",
    "version": 3
   },
   "file_extension": ".py",
   "mimetype": "text/x-python",
   "name": "python",
   "nbconvert_exporter": "python",
   "pygments_lexer": "ipython3",
   "version": "3.10.8"
  }
 },
 "nbformat": 4,
 "nbformat_minor": 5
}
